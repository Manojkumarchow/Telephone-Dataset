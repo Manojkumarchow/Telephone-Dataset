{
 "cells": [
  {
   "cell_type": "code",
   "execution_count": 13,
   "metadata": {},
   "outputs": [],
   "source": [
    "#import the dependencies\n",
    "import pandas as  pd\n",
    "from sklearn.model_selection import train_test_split\n",
    "from sklearn.ensemble import RandomForestClassifier\n",
    "from sklearn.svm import SVC\n",
    "from sklearn.naive_bayes import GaussianNB\n",
    "from sklearn.neighbors import KNeighborsClassifier\n",
    "from sklearn.tree import DecisionTreeClassifier\n",
    "from sklearn.ensemble import AdaBoostClassifier\n",
    "from sklearn.ensemble import GradientBoostingClassifier\n",
    "import sklearn.metrics as metrics\n",
    "import warnings\n",
    "warnings.filterwarnings('ignore')"
   ]
  },
  {
   "cell_type": "code",
   "execution_count": 14,
   "metadata": {},
   "outputs": [],
   "source": [
    "data = pd.read_csv('train.csv')\n",
    "# df = pd.read_csv('test.csv')"
   ]
  },
  {
   "cell_type": "code",
   "execution_count": 15,
   "metadata": {},
   "outputs": [],
   "source": [
    "# print(data.head(10))"
   ]
  },
  {
   "cell_type": "code",
   "execution_count": 16,
   "metadata": {},
   "outputs": [],
   "source": [
    "# data.describe()"
   ]
  },
  {
   "cell_type": "code",
   "execution_count": 17,
   "metadata": {},
   "outputs": [],
   "source": [
    "# data.isna().sum()"
   ]
  },
  {
   "cell_type": "code",
   "execution_count": 18,
   "metadata": {},
   "outputs": [],
   "source": [
    "# print(data.columns)\n",
    "# print(data['price_range'])"
   ]
  },
  {
   "cell_type": "code",
   "execution_count": 19,
   "metadata": {},
   "outputs": [
    {
     "name": "stdout",
     "output_type": "stream",
     "text": [
      "(2000, 21)\n"
     ]
    }
   ],
   "source": [
    "print(data.shape)"
   ]
  },
  {
   "cell_type": "code",
   "execution_count": 20,
   "metadata": {},
   "outputs": [],
   "source": [
    "# y --> target class label\n",
    "# x --> features\n",
    "y = data['price_range']\n",
    "x = data.drop('price_range', axis=1)"
   ]
  },
  {
   "cell_type": "code",
   "execution_count": 133,
   "metadata": {},
   "outputs": [
    {
     "name": "stdout",
     "output_type": "stream",
     "text": [
      "(1900, 20)\n",
      "(100, 20)\n"
     ]
    }
   ],
   "source": [
    "x_train, x_test, y_train, y_test = train_test_split(x, y, test_size=0.05)\n",
    "print(x_train.shape)\n",
    "print(x_test.shape)"
   ]
  },
  {
   "cell_type": "code",
   "execution_count": 134,
   "metadata": {},
   "outputs": [],
   "source": [
    "#Random Forest Classifier\n",
    "rf = RandomForestClassifier(n_estimators = 1000, random_state=7)\n",
    "sv = SVC(kernel='linear')\n",
    "abc = AdaBoostClassifier(n_estimators=100)\n",
    "gbc = GradientBoostingClassifier(n_estimators=290)\n",
    "dt = DecisionTreeClassifier(max_depth=3, min_samples_split=2)\n",
    "knn = KNeighborsClassifier(n_neighbors=3)\n",
    "gnb = GaussianNB()"
   ]
  },
  {
   "cell_type": "code",
   "execution_count": 135,
   "metadata": {},
   "outputs": [
    {
     "name": "stdout",
     "output_type": "stream",
     "text": [
      "Training Time for Random Forest Classifier: 3.952 s\n"
     ]
    }
   ],
   "source": [
    "import time\n",
    "t0=time.time()\n",
    "rf.fit(x_train, y_train)\n",
    "print(\"Training Time for Random Forest Classifier:\", round(time.time()-t0, 3), \"s\")"
   ]
  },
  {
   "cell_type": "code",
   "execution_count": 136,
   "metadata": {},
   "outputs": [
    {
     "name": "stdout",
     "output_type": "stream",
     "text": [
      "Training Time for Support Vector Machine: 28.493 s\n"
     ]
    }
   ],
   "source": [
    "t0=time.time()\n",
    "sv.fit(x_train, y_train)\n",
    "print(\"Training Time for Support Vector Machine:\", round(time.time()-t0, 3), \"s\")"
   ]
  },
  {
   "cell_type": "code",
   "execution_count": 137,
   "metadata": {},
   "outputs": [
    {
     "name": "stdout",
     "output_type": "stream",
     "text": [
      "Training Time AdaBoost Classifier: 0.562 s\n"
     ]
    }
   ],
   "source": [
    "t0=time.time()\n",
    "abc.fit(x_train, y_train)\n",
    "print(\"Training Time AdaBoost Classifier:\", round(time.time()-t0, 3), \"s\")"
   ]
  },
  {
   "cell_type": "code",
   "execution_count": 138,
   "metadata": {},
   "outputs": [
    {
     "name": "stdout",
     "output_type": "stream",
     "text": [
      "Training Time for Gradient Boosting Classifier: 4.354 s\n"
     ]
    }
   ],
   "source": [
    "t0=time.time()\n",
    "gbc.fit(x_train, y_train)\n",
    "print(\"Training Time for Gradient Boosting Classifier:\", round(time.time()-t0, 3), \"s\")"
   ]
  },
  {
   "cell_type": "code",
   "execution_count": 139,
   "metadata": {},
   "outputs": [
    {
     "name": "stdout",
     "output_type": "stream",
     "text": [
      "Training Time for Decision Tree Classifier: 0.012 s\n"
     ]
    }
   ],
   "source": [
    "t0=time.time()\n",
    "dt.fit(x_train, y_train)\n",
    "print(\"Training Time for Decision Tree Classifier:\", round(time.time()-t0, 3), \"s\")"
   ]
  },
  {
   "cell_type": "code",
   "execution_count": 140,
   "metadata": {},
   "outputs": [
    {
     "name": "stdout",
     "output_type": "stream",
     "text": [
      "Training Time for K-NN Classifier: 0.008 s\n"
     ]
    }
   ],
   "source": [
    "t0=time.time()\n",
    "knn.fit(x_train, y_train)\n",
    "print(\"Training Time for K-NN Classifier:\", round(time.time()-t0, 3), \"s\")"
   ]
  },
  {
   "cell_type": "code",
   "execution_count": 141,
   "metadata": {},
   "outputs": [
    {
     "name": "stdout",
     "output_type": "stream",
     "text": [
      "Training Time for Naive Bayes Classifier: 0.012 s\n"
     ]
    }
   ],
   "source": [
    "t0=time.time()\n",
    "gnb.fit(x_train, y_train)\n",
    "print(\"Training Time for Naive Bayes Classifier:\", round(time.time()-t0, 3), \"s\")"
   ]
  },
  {
   "cell_type": "code",
   "execution_count": 142,
   "metadata": {},
   "outputs": [
    {
     "name": "stdout",
     "output_type": "stream",
     "text": [
      "Testing Time for Random Forest Classifier: 0.079 s\n",
      "Accuracy:  84.0\n"
     ]
    }
   ],
   "source": [
    "import time\n",
    "t1 = time.time()\n",
    "predict = rf.predict(x_test)\n",
    "print(\"Testing Time for Random Forest Classifier:\", round(time.time()-t1, 3), \"s\")\n",
    "accuracy = metrics.accuracy_score(y_test, predict)\n",
    "print(\"Accuracy: \", accuracy*100)"
   ]
  },
  {
   "cell_type": "code",
   "execution_count": 143,
   "metadata": {},
   "outputs": [
    {
     "name": "stdout",
     "output_type": "stream",
     "text": [
      "Testing Time for Support Vector Machine: 3.952 s\n",
      "Accuracy:  95.0\n"
     ]
    }
   ],
   "source": [
    "t1 = time.time()\n",
    "predict = sv.predict(x_test)\n",
    "print(\"Testing Time for Support Vector Machine:\", round(time.time()-t0, 3), \"s\")\n",
    "accuracy = metrics.accuracy_score(y_test, predict)\n",
    "print(\"Accuracy: \", accuracy*100)"
   ]
  },
  {
   "cell_type": "code",
   "execution_count": 144,
   "metadata": {},
   "outputs": [
    {
     "name": "stdout",
     "output_type": "stream",
     "text": [
      "Testing Time for AdaBoost Classifier: 0.02 s\n",
      "Accuracy:  73.0\n"
     ]
    }
   ],
   "source": [
    "t1 = time.time()\n",
    "predict = abc.predict(x_test)\n",
    "print(\"Testing Time for AdaBoost Classifier:\", round(time.time()-t1, 3), \"s\")\n",
    "accuracy = metrics.accuracy_score(y_test, predict)\n",
    "print(\"Accuracy: \", accuracy*100)"
   ]
  },
  {
   "cell_type": "code",
   "execution_count": 145,
   "metadata": {},
   "outputs": [
    {
     "name": "stdout",
     "output_type": "stream",
     "text": [
      "Testing Time for Gradient Boosting Classifier: 0.004 s\n",
      "Accuracy:  88.0\n"
     ]
    }
   ],
   "source": [
    "t1 = time.time()\n",
    "predict = gbc.predict(x_test)\n",
    "print(\"Testing Time for Gradient Boosting Classifier:\", round(time.time()-t1, 3), \"s\")\n",
    "accuracy = metrics.accuracy_score(y_test, predict)\n",
    "print(\"Accuracy: \", accuracy*100)"
   ]
  },
  {
   "cell_type": "code",
   "execution_count": 146,
   "metadata": {},
   "outputs": [
    {
     "name": "stdout",
     "output_type": "stream",
     "text": [
      "Testing Time for Decision Tree Classifier: 0.0 s\n",
      "Accuracy:  73.0\n"
     ]
    }
   ],
   "source": [
    "t1 = time.time()\n",
    "predict = dt.predict(x_test)\n",
    "print(\"Testing Time for Decision Tree Classifier:\", round(time.time()-t1, 3), \"s\")\n",
    "accuracy = metrics.accuracy_score(y_test, predict)\n",
    "print(\"Accuracy: \", accuracy*100)"
   ]
  },
  {
   "cell_type": "code",
   "execution_count": 147,
   "metadata": {},
   "outputs": [
    {
     "name": "stdout",
     "output_type": "stream",
     "text": [
      "Testing Time for K-NN Classifier: 0.012 s\n",
      "Accuracy:  89.0\n"
     ]
    }
   ],
   "source": [
    "t1 = time.time()\n",
    "predict = knn.predict(x_test)\n",
    "print(\"Testing Time for K-NN Classifier:\", round(time.time()-t1, 3), \"s\")\n",
    "accuracy = metrics.accuracy_score(y_test, predict)\n",
    "print(\"Accuracy: \", accuracy*100)"
   ]
  },
  {
   "cell_type": "code",
   "execution_count": 148,
   "metadata": {},
   "outputs": [
    {
     "name": "stdout",
     "output_type": "stream",
     "text": [
      "Testing Time for Naive Bayes Classifier: 0.004 s\n",
      "Accuracy:  81.0\n"
     ]
    }
   ],
   "source": [
    "t1 = time.time()\n",
    "predict = gnb.predict(x_test)\n",
    "print(\"Testing Time for Naive Bayes Classifier:\", round(time.time()-t1, 3), \"s\")\n",
    "accuracy = metrics.accuracy_score(y_test, predict)\n",
    "print(\"Accuracy: \", accuracy*100)"
   ]
  },
  {
   "cell_type": "code",
   "execution_count": 149,
   "metadata": {},
   "outputs": [],
   "source": [
    "from sklearn.ensemble import VotingClassifier\n",
    "#create a dictionary of our models\n",
    "estimators_1=[('knn', knn), ('rf', rf)]\n",
    "#create our voting classifier, inputting our models\n",
    "ensemble_1 = VotingClassifier(estimators_1, voting='hard')"
   ]
  },
  {
   "cell_type": "code",
   "execution_count": 150,
   "metadata": {},
   "outputs": [],
   "source": [
    "estimators_2=[('svm', sv), ('rf', rf)]\n",
    "ensemble_2 = VotingClassifier(estimators_2, voting='hard')"
   ]
  },
  {
   "cell_type": "code",
   "execution_count": 151,
   "metadata": {},
   "outputs": [],
   "source": [
    "estimators_3=[('knn', knn), ('svm', sv)]\n",
    "ensemble_3 = VotingClassifier(estimators_3, voting='hard')"
   ]
  },
  {
   "cell_type": "code",
   "execution_count": 152,
   "metadata": {},
   "outputs": [],
   "source": [
    "estimators_4=[('adb', abc), ('gdc', gbc)]\n",
    "ensemble_4 = VotingClassifier(estimators_4, voting='hard')"
   ]
  },
  {
   "cell_type": "code",
   "execution_count": 153,
   "metadata": {},
   "outputs": [],
   "source": [
    "estimators_5=[('svm', sv), ('adb', abc)]\n",
    "ensemble_5 = VotingClassifier(estimators_5, voting='hard')"
   ]
  },
  {
   "cell_type": "code",
   "execution_count": 154,
   "metadata": {},
   "outputs": [
    {
     "name": "stdout",
     "output_type": "stream",
     "text": [
      "Training time: 3.349 s\n",
      "Testing Time for Ensemble Classifier: 0.078 s\n",
      "Accuracy:  86.0\n"
     ]
    }
   ],
   "source": [
    "#fit model to training data\n",
    "t0 = time.time()\n",
    "ensemble_1.fit(x_train, y_train)\n",
    "print(\"Training time:\", round(time.time()-t0, 3), \"s\")\n",
    "#test our model on the test data\n",
    "# print(ensemble.score(x_test, y_test))\n",
    "t1 = time.time()\n",
    "predict = ensemble_1.predict(x_test)\n",
    "print(\"Testing Time for Ensemble Classifier:\", round(time.time()-t1, 3), \"s\")\n",
    "accuracy = metrics.accuracy_score(y_test, predict)\n",
    "print(\"Accuracy: \", accuracy*100)"
   ]
  },
  {
   "cell_type": "code",
   "execution_count": 155,
   "metadata": {},
   "outputs": [
    {
     "name": "stdout",
     "output_type": "stream",
     "text": [
      "Training time: 32.68 s\n",
      "Testing Time for Ensemble Classifier: 0.078 s\n",
      "Accuracy:  88.0\n"
     ]
    }
   ],
   "source": [
    "#fit model to training data\n",
    "t0 = time.time()\n",
    "ensemble_2.fit(x_train, y_train)\n",
    "print(\"Training time:\", round(time.time()-t0, 3), \"s\")\n",
    "#test our model on the test data\n",
    "# print(ensemble.score(x_test, y_test))\n",
    "t1 = time.time()\n",
    "predict = ensemble_2.predict(x_test)\n",
    "print(\"Testing Time for Ensemble Classifier:\", round(time.time()-t1, 3), \"s\")\n",
    "accuracy = metrics.accuracy_score(y_test, predict)\n",
    "print(\"Accuracy: \", accuracy*100)"
   ]
  },
  {
   "cell_type": "code",
   "execution_count": 156,
   "metadata": {},
   "outputs": [
    {
     "name": "stdout",
     "output_type": "stream",
     "text": [
      "Training time: 28.244 s\n",
      "Testing Time for Ensemble Classifier: 0.0 s\n",
      "Accuracy:  92.0\n"
     ]
    }
   ],
   "source": [
    "#fit model to training data\n",
    "t0 = time.time()\n",
    "ensemble_3.fit(x_train, y_train)\n",
    "print(\"Training time:\", round(time.time()-t0, 3), \"s\")\n",
    "#test our model on the test data\n",
    "# print(ensemble.score(x_test, y_test))\n",
    "t1 = time.time()\n",
    "predict = ensemble_3.predict(x_test)\n",
    "print(\"Testing Time for Ensemble Classifier:\", round(time.time()-t1, 3), \"s\")\n",
    "accuracy = metrics.accuracy_score(y_test, predict)\n",
    "print(\"Accuracy: \", accuracy * 100)"
   ]
  },
  {
   "cell_type": "code",
   "execution_count": null,
   "metadata": {},
   "outputs": [],
   "source": [
    "#fit model to training data\n",
    "t0 = time.time()\n",
    "ensemble_4.fit(x_train, y_train)\n",
    "print(\"Training time:\", round(time.time()-t0, 3), \"s\")\n",
    "#test our model on the test data\n",
    "# print(ensemble.score(x_test, y_test))\n",
    "t1 = time.time()\n",
    "predict = ensemble_4.predict(x_test)\n",
    "print(\"Testing Time for Ensemble Classifier:\", round(time.time()-t1, 3), \"s\")\n",
    "accuracy = metrics.accuracy_score(y_test, predict)\n",
    "print(\"Accuracy: \", accuracy * 100)"
   ]
  },
  {
   "cell_type": "code",
   "execution_count": 132,
   "metadata": {},
   "outputs": [
    {
     "name": "stdout",
     "output_type": "stream",
     "text": [
      "Training time: 10.565 s\n",
      "Testing Time for Ensemble Classifier: 0.031 s\n",
      "Accuracy:  83.0\n"
     ]
    }
   ],
   "source": [
    "#fit model to training data\n",
    "t0 = time.time()\n",
    "ensemble_5.fit(x_train, y_train)\n",
    "print(\"Training time:\", round(time.time()-t0, 3), \"s\")\n",
    "#test our model on the test data\n",
    "# print(ensemble.score(x_test, y_test))\n",
    "t1 = time.time()\n",
    "predict = ensemble_5.predict(x_test)\n",
    "print(\"Testing Time for Ensemble Classifier:\", round(time.time()-t1, 3), \"s\")\n",
    "accuracy = metrics.accuracy_score(y_test, predict)\n",
    "print(\"Accuracy: \", accuracy * 100)"
   ]
  }
 ],
 "metadata": {
  "kernelspec": {
   "display_name": "Python 3",
   "language": "python",
   "name": "python3"
  },
  "language_info": {
   "codemirror_mode": {
    "name": "ipython",
    "version": 3
   },
   "file_extension": ".py",
   "mimetype": "text/x-python",
   "name": "python",
   "nbconvert_exporter": "python",
   "pygments_lexer": "ipython3",
   "version": "3.7.3"
  }
 },
 "nbformat": 4,
 "nbformat_minor": 2
}
